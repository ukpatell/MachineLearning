{
 "cells": [
  {
   "cell_type": "markdown",
   "id": "45a86b87",
   "metadata": {
    "_cell_guid": "749ee6ad-2818-4324-bea0-b84d90ab3630",
    "_uuid": "5a91e650-d1cb-421f-8ab9-3139cd6b6ba3",
    "papermill": {
     "duration": 0.00633,
     "end_time": "2022-11-16T02:41:40.419280",
     "exception": false,
     "start_time": "2022-11-16T02:41:40.412950",
     "status": "completed"
    },
    "tags": []
   },
   "source": [
    "|   |  |\n",
    "| ------------- | ------------- |\n",
    "| Name | Umangkumar Patel  |\n",
    "| Class  | CISC 432-01 Statistical Pattern Recognition  |\n",
    "| Assignment|M5 HW1 Neural Network in Python|\n",
    "| Description|Hand-Digits Recognition|\n",
    "| Date |November 15, 2022|"
   ]
  },
  {
   "cell_type": "markdown",
   "id": "204af0bb",
   "metadata": {
    "_cell_guid": "1e6edcc0-c622-4d37-a931-f7d3999e713b",
    "_uuid": "f138f5bb-138e-4a75-9301-31d11ddbb85d",
    "papermill": {
     "duration": 0.004725,
     "end_time": "2022-11-16T02:41:40.429303",
     "exception": false,
     "start_time": "2022-11-16T02:41:40.424578",
     "status": "completed"
    },
    "tags": []
   },
   "source": [
    "### **Imports**"
   ]
  },
  {
   "cell_type": "code",
   "execution_count": 1,
   "id": "de88c4db",
   "metadata": {
    "_cell_guid": "badf9422-244c-4874-ab52-3357fa7f4ee0",
    "_uuid": "fd254698-c73e-4904-97bf-c6370dac662e",
    "collapsed": false,
    "execution": {
     "iopub.execute_input": "2022-11-16T02:41:40.442039Z",
     "iopub.status.busy": "2022-11-16T02:41:40.441023Z",
     "iopub.status.idle": "2022-11-16T02:41:45.654350Z",
     "shell.execute_reply": "2022-11-16T02:41:45.653157Z"
    },
    "jupyter": {
     "outputs_hidden": false
    },
    "papermill": {
     "duration": 5.223402,
     "end_time": "2022-11-16T02:41:45.657746",
     "exception": false,
     "start_time": "2022-11-16T02:41:40.434344",
     "status": "completed"
    },
    "tags": []
   },
   "outputs": [
    {
     "name": "stdout",
     "output_type": "stream",
     "text": [
      "/kaggle/input/digits/patel0.png\n",
      "/kaggle/input/digits/patel1.png\n",
      "/kaggle/input/digits/patel3.png\n",
      "/kaggle/input/digits/patel2.png\n",
      "/kaggle/input/digits/patel9.png\n",
      "/kaggle/input/digits/patel6.png\n",
      "/kaggle/input/digits/patel7.png\n",
      "/kaggle/input/digits/patel5.png\n",
      "/kaggle/input/digits/patel8.png\n",
      "/kaggle/input/digits/patel4.png\n"
     ]
    }
   ],
   "source": [
    "import numpy as np # linear algebra\n",
    "import pandas as pd # data processing, CSV file I/O (e.g. pd.read_csv)\n",
    "import cv2          # open cv python \n",
    "import matplotlib.pyplot as plt\n",
    "import tensorflow as tf\n",
    "\n",
    "import os\n",
    "for dirname, _, filenames in os.walk('/kaggle/input'):\n",
    "    for filename in filenames:\n",
    "        print(os.path.join(dirname, filename))"
   ]
  },
  {
   "cell_type": "markdown",
   "id": "cdc79d05",
   "metadata": {
    "_cell_guid": "36f8f518-c4d9-4b96-8875-d662269d6e59",
    "_uuid": "eb9b4f56-c032-493c-b5b0-a03958291a18",
    "papermill": {
     "duration": 0.005057,
     "end_time": "2022-11-16T02:41:45.669235",
     "exception": false,
     "start_time": "2022-11-16T02:41:45.664178",
     "status": "completed"
    },
    "tags": []
   },
   "source": [
    "### **Load Dataset**"
   ]
  },
  {
   "cell_type": "code",
   "execution_count": 2,
   "id": "78026c58",
   "metadata": {
    "_cell_guid": "941b91bd-ec0a-41fe-914e-3c2aa42578af",
    "_uuid": "bd9cb31c-7bfc-4721-9325-01849eab4c40",
    "collapsed": false,
    "execution": {
     "iopub.execute_input": "2022-11-16T02:41:45.682040Z",
     "iopub.status.busy": "2022-11-16T02:41:45.680958Z",
     "iopub.status.idle": "2022-11-16T02:41:47.146636Z",
     "shell.execute_reply": "2022-11-16T02:41:47.145752Z"
    },
    "jupyter": {
     "outputs_hidden": false
    },
    "papermill": {
     "duration": 1.475105,
     "end_time": "2022-11-16T02:41:47.149358",
     "exception": false,
     "start_time": "2022-11-16T02:41:45.674253",
     "status": "completed"
    },
    "tags": []
   },
   "outputs": [
    {
     "name": "stdout",
     "output_type": "stream",
     "text": [
      "Downloading data from https://storage.googleapis.com/tensorflow/tf-keras-datasets/mnist.npz\n",
      "11493376/11490434 [==============================] - 0s 0us/step\n",
      "11501568/11490434 [==============================] - 0s 0us/step\n"
     ]
    }
   ],
   "source": [
    "mnist = tf.keras.datasets.mnist\n",
    "(x_train, y_train),(x_test,y_test) = mnist.load_data()"
   ]
  },
  {
   "cell_type": "markdown",
   "id": "18a22356",
   "metadata": {
    "_cell_guid": "e2b11d9c-2a8a-4568-97bc-101b434ed668",
    "_uuid": "df407427-f75f-486d-a49e-8c8a2c2cc9f4",
    "papermill": {
     "duration": 0.00514,
     "end_time": "2022-11-16T02:41:47.160298",
     "exception": false,
     "start_time": "2022-11-16T02:41:47.155158",
     "status": "completed"
    },
    "tags": []
   },
   "source": [
    "### **Normalize Data**"
   ]
  },
  {
   "cell_type": "code",
   "execution_count": 3,
   "id": "04ebb9cb",
   "metadata": {
    "_cell_guid": "01d666c3-4b4f-4a43-9d24-cb2c7517fac4",
    "_uuid": "776d63a2-03d8-49ac-a15a-8da40f9a5b59",
    "collapsed": false,
    "execution": {
     "iopub.execute_input": "2022-11-16T02:41:47.172639Z",
     "iopub.status.busy": "2022-11-16T02:41:47.172239Z",
     "iopub.status.idle": "2022-11-16T02:41:47.834441Z",
     "shell.execute_reply": "2022-11-16T02:41:47.833199Z"
    },
    "jupyter": {
     "outputs_hidden": false
    },
    "papermill": {
     "duration": 0.671538,
     "end_time": "2022-11-16T02:41:47.837120",
     "exception": false,
     "start_time": "2022-11-16T02:41:47.165582",
     "status": "completed"
    },
    "tags": []
   },
   "outputs": [],
   "source": [
    "x_train = tf.keras.utils.normalize(x_train,axis=1)\n",
    "x_test = tf.keras.utils.normalize(x_test,axis=1)"
   ]
  },
  {
   "cell_type": "code",
   "execution_count": 4,
   "id": "cca91d77",
   "metadata": {
    "_cell_guid": "5d2aa73f-0a8a-4b1e-af35-58c1c7e8758c",
    "_uuid": "a1fd2bcd-6fa3-4998-84dc-67a565316cf9",
    "collapsed": false,
    "execution": {
     "iopub.execute_input": "2022-11-16T02:41:47.850014Z",
     "iopub.status.busy": "2022-11-16T02:41:47.849601Z",
     "iopub.status.idle": "2022-11-16T02:41:47.961271Z",
     "shell.execute_reply": "2022-11-16T02:41:47.960054Z"
    },
    "jupyter": {
     "outputs_hidden": false
    },
    "papermill": {
     "duration": 0.121157,
     "end_time": "2022-11-16T02:41:47.964005",
     "exception": false,
     "start_time": "2022-11-16T02:41:47.842848",
     "status": "completed"
    },
    "tags": []
   },
   "outputs": [
    {
     "name": "stderr",
     "output_type": "stream",
     "text": [
      "2022-11-16 02:41:47.886717: I tensorflow/core/common_runtime/process_util.cc:146] Creating new thread pool with default inter op setting: 2. Tune using inter_op_parallelism_threads for best performance.\n"
     ]
    }
   ],
   "source": [
    "model = tf.keras.models.Sequential()\n",
    "model.add(tf.keras.layers.Flatten(input_shape=(28,28)))\n",
    "model.add(tf.keras.layers.Dense(128,activation='relu'))\n",
    "model.add(tf.keras.layers.Dense(10,activation='softmax'))"
   ]
  },
  {
   "cell_type": "markdown",
   "id": "f2ff8887",
   "metadata": {
    "_cell_guid": "e0e5ced7-da97-4d84-b3a8-1972e2cde578",
    "_uuid": "282561f4-290a-4403-a8ff-e01d30dbd085",
    "papermill": {
     "duration": 0.006881,
     "end_time": "2022-11-16T02:41:47.976552",
     "exception": false,
     "start_time": "2022-11-16T02:41:47.969671",
     "status": "completed"
    },
    "tags": []
   },
   "source": [
    "### **Compile Model**"
   ]
  },
  {
   "cell_type": "code",
   "execution_count": 5,
   "id": "c3938e9f",
   "metadata": {
    "_cell_guid": "9dc6b827-34f4-4d39-9696-48e5b19d5cd5",
    "_uuid": "ce416ad4-63e2-4845-baf0-c0e278350199",
    "collapsed": false,
    "execution": {
     "iopub.execute_input": "2022-11-16T02:41:47.990211Z",
     "iopub.status.busy": "2022-11-16T02:41:47.989158Z",
     "iopub.status.idle": "2022-11-16T02:41:48.002711Z",
     "shell.execute_reply": "2022-11-16T02:41:48.001579Z"
    },
    "jupyter": {
     "outputs_hidden": false
    },
    "papermill": {
     "duration": 0.022848,
     "end_time": "2022-11-16T02:41:48.005192",
     "exception": false,
     "start_time": "2022-11-16T02:41:47.982344",
     "status": "completed"
    },
    "tags": []
   },
   "outputs": [],
   "source": [
    "model.compile(optimizer='adam',loss='sparse_categorical_crossentropy',metrics=['accuracy'])"
   ]
  },
  {
   "cell_type": "markdown",
   "id": "b3fab5ab",
   "metadata": {
    "_cell_guid": "32608bb6-0cd8-4439-a4f3-1bd70ba55c14",
    "_uuid": "54ca1275-493b-4cc8-8da9-b5cce7cdcbaf",
    "papermill": {
     "duration": 0.005367,
     "end_time": "2022-11-16T02:41:48.016310",
     "exception": false,
     "start_time": "2022-11-16T02:41:48.010943",
     "status": "completed"
    },
    "tags": []
   },
   "source": [
    "### **Train**"
   ]
  },
  {
   "cell_type": "code",
   "execution_count": 6,
   "id": "7a33c09f",
   "metadata": {
    "_cell_guid": "290b278d-9d2e-4a65-813d-245b186ad4da",
    "_uuid": "87ec6726-6d60-4267-9dba-2150543fea72",
    "collapsed": false,
    "execution": {
     "iopub.execute_input": "2022-11-16T02:41:48.028874Z",
     "iopub.status.busy": "2022-11-16T02:41:48.028458Z",
     "iopub.status.idle": "2022-11-16T02:42:09.511756Z",
     "shell.execute_reply": "2022-11-16T02:42:09.510868Z"
    },
    "jupyter": {
     "outputs_hidden": false
    },
    "papermill": {
     "duration": 21.492042,
     "end_time": "2022-11-16T02:42:09.513896",
     "exception": false,
     "start_time": "2022-11-16T02:41:48.021854",
     "status": "completed"
    },
    "tags": []
   },
   "outputs": [
    {
     "name": "stderr",
     "output_type": "stream",
     "text": [
      "2022-11-16 02:41:48.520483: I tensorflow/compiler/mlir/mlir_graph_optimization_pass.cc:185] None of the MLIR Optimization Passes are enabled (registered 2)\n"
     ]
    },
    {
     "name": "stdout",
     "output_type": "stream",
     "text": [
      "Epoch 1/5\n",
      "1875/1875 [==============================] - 5s 2ms/step - loss: 0.3102 - accuracy: 0.9141\n",
      "Epoch 2/5\n",
      "1875/1875 [==============================] - 4s 2ms/step - loss: 0.1355 - accuracy: 0.9604\n",
      "Epoch 3/5\n",
      "1875/1875 [==============================] - 4s 2ms/step - loss: 0.0925 - accuracy: 0.9731\n",
      "Epoch 4/5\n",
      "1875/1875 [==============================] - 4s 2ms/step - loss: 0.0694 - accuracy: 0.9793\n",
      "Epoch 5/5\n",
      "1875/1875 [==============================] - 4s 2ms/step - loss: 0.0528 - accuracy: 0.9844\n"
     ]
    },
    {
     "data": {
      "text/plain": [
       "<keras.callbacks.History at 0x7fbfaba4e4d0>"
      ]
     },
     "execution_count": 6,
     "metadata": {},
     "output_type": "execute_result"
    }
   ],
   "source": [
    "model.fit(x_train,y_train,epochs=5)"
   ]
  },
  {
   "cell_type": "markdown",
   "id": "cc070f83",
   "metadata": {
    "_cell_guid": "c38b23ef-5958-4c0b-874f-0b9b92d5fc2d",
    "_uuid": "49c3687a-5c9a-4abd-bef1-68901cfa3ca0",
    "papermill": {
     "duration": 0.028617,
     "end_time": "2022-11-16T02:42:09.572357",
     "exception": false,
     "start_time": "2022-11-16T02:42:09.543740",
     "status": "completed"
    },
    "tags": []
   },
   "source": [
    "### **Save Model**"
   ]
  },
  {
   "cell_type": "code",
   "execution_count": 7,
   "id": "60fdec3c",
   "metadata": {
    "_cell_guid": "01dfd644-4fcb-467c-898b-dbea6c17f5dc",
    "_uuid": "dc5744d7-315a-4984-9338-e1fc73cc1835",
    "collapsed": false,
    "execution": {
     "iopub.execute_input": "2022-11-16T02:42:09.632201Z",
     "iopub.status.busy": "2022-11-16T02:42:09.631802Z",
     "iopub.status.idle": "2022-11-16T02:42:10.377063Z",
     "shell.execute_reply": "2022-11-16T02:42:10.375786Z"
    },
    "jupyter": {
     "outputs_hidden": false
    },
    "papermill": {
     "duration": 0.778472,
     "end_time": "2022-11-16T02:42:10.379980",
     "exception": false,
     "start_time": "2022-11-16T02:42:09.601508",
     "status": "completed"
    },
    "tags": []
   },
   "outputs": [
    {
     "name": "stderr",
     "output_type": "stream",
     "text": [
      "2022-11-16 02:42:09.879703: W tensorflow/python/util/util.cc:348] Sets are not currently considered sequences, but this may change in the future, so consider avoiding using them.\n"
     ]
    }
   ],
   "source": [
    "model.save('HandDigits.model')"
   ]
  },
  {
   "cell_type": "markdown",
   "id": "f29c4456",
   "metadata": {
    "_cell_guid": "c715a451-feb8-4c73-85c1-4003005c58f5",
    "_uuid": "6367bb95-9952-409e-a3b4-f8eae81db3da",
    "papermill": {
     "duration": 0.02811,
     "end_time": "2022-11-16T02:42:10.437005",
     "exception": false,
     "start_time": "2022-11-16T02:42:10.408895",
     "status": "completed"
    },
    "tags": []
   },
   "source": [
    "### **Load the Trained Model**"
   ]
  },
  {
   "cell_type": "code",
   "execution_count": 8,
   "id": "3509f6e7",
   "metadata": {
    "_cell_guid": "17d6223b-e785-4395-9110-cefe70f64caf",
    "_uuid": "df9f2543-470a-42a0-9a5e-0b96f7dff2ea",
    "collapsed": false,
    "execution": {
     "iopub.execute_input": "2022-11-16T02:42:10.495460Z",
     "iopub.status.busy": "2022-11-16T02:42:10.494656Z",
     "iopub.status.idle": "2022-11-16T02:42:10.712112Z",
     "shell.execute_reply": "2022-11-16T02:42:10.711233Z"
    },
    "jupyter": {
     "outputs_hidden": false
    },
    "papermill": {
     "duration": 0.248879,
     "end_time": "2022-11-16T02:42:10.714583",
     "exception": false,
     "start_time": "2022-11-16T02:42:10.465704",
     "status": "completed"
    },
    "tags": []
   },
   "outputs": [],
   "source": [
    "hmodel = tf.keras.models.load_model('HandDigits.model')"
   ]
  },
  {
   "cell_type": "markdown",
   "id": "2451c990",
   "metadata": {
    "_cell_guid": "c365296f-8896-4a82-bc43-16fbd4ae92b4",
    "_uuid": "445ae67a-70cb-400e-b286-6a9ae495bb1f",
    "papermill": {
     "duration": 0.02858,
     "end_time": "2022-11-16T02:42:10.772825",
     "exception": false,
     "start_time": "2022-11-16T02:42:10.744245",
     "status": "completed"
    },
    "tags": []
   },
   "source": [
    "### **Evaluate model on test data**"
   ]
  },
  {
   "cell_type": "code",
   "execution_count": 9,
   "id": "cc6f02f0",
   "metadata": {
    "_cell_guid": "dafd8792-3499-4082-891f-cbdb9faac29a",
    "_uuid": "4ac03d92-7a10-4e1b-8d15-062f9462a084",
    "collapsed": false,
    "execution": {
     "iopub.execute_input": "2022-11-16T02:42:10.832311Z",
     "iopub.status.busy": "2022-11-16T02:42:10.831288Z",
     "iopub.status.idle": "2022-11-16T02:42:11.718050Z",
     "shell.execute_reply": "2022-11-16T02:42:11.716886Z"
    },
    "jupyter": {
     "outputs_hidden": false
    },
    "papermill": {
     "duration": 0.919762,
     "end_time": "2022-11-16T02:42:11.721220",
     "exception": false,
     "start_time": "2022-11-16T02:42:10.801458",
     "status": "completed"
    },
    "tags": []
   },
   "outputs": [
    {
     "name": "stdout",
     "output_type": "stream",
     "text": [
      "313/313 [==============================] - 1s 1ms/step - loss: 0.0896 - accuracy: 0.9720\n",
      "Loss     -  0.08962278813123703\n",
      "Accuracy -  0.972000002861023\n"
     ]
    }
   ],
   "source": [
    "loss,accuracy = hmodel.evaluate(x_test,y_test)\n",
    "print('Loss     - ', loss)\n",
    "print('Accuracy - ', accuracy)"
   ]
  },
  {
   "cell_type": "markdown",
   "id": "f5b1c697",
   "metadata": {
    "_cell_guid": "fa7140b5-066f-4cfe-9056-6212b24f7969",
    "_uuid": "97501f23-52fd-4b71-9e46-6d6b4fb6c5ca",
    "papermill": {
     "duration": 0.029524,
     "end_time": "2022-11-16T02:42:11.780929",
     "exception": false,
     "start_time": "2022-11-16T02:42:11.751405",
     "status": "completed"
    },
    "tags": []
   },
   "source": [
    "### **Evaluate model on our own data**"
   ]
  },
  {
   "cell_type": "code",
   "execution_count": 10,
   "id": "0df99892",
   "metadata": {
    "_cell_guid": "8e0aeade-7b71-42b4-9063-259351c9b20f",
    "_uuid": "78ba10fb-042f-4192-8ab9-578a62a6afbb",
    "collapsed": false,
    "execution": {
     "iopub.execute_input": "2022-11-16T02:42:11.842484Z",
     "iopub.status.busy": "2022-11-16T02:42:11.842076Z",
     "iopub.status.idle": "2022-11-16T02:42:14.342857Z",
     "shell.execute_reply": "2022-11-16T02:42:14.341286Z"
    },
    "jupyter": {
     "outputs_hidden": false
    },
    "papermill": {
     "duration": 2.534835,
     "end_time": "2022-11-16T02:42:14.345601",
     "exception": false,
     "start_time": "2022-11-16T02:42:11.810766",
     "status": "completed"
    },
    "tags": []
   },
   "outputs": [
    {
     "name": "stdout",
     "output_type": "stream",
     "text": [
      "Number: 0\n"
     ]
    },
    {
     "data": {
      "image/png": "[encoded data removed]",
      "text/plain": [
       "<Figure size 432x288 with 1 Axes>"
      ]
     },
     "metadata": {
      "needs_background": "light"
     },
     "output_type": "display_data"
    },
    {
     "name": "stdout",
     "output_type": "stream",
     "text": [
      "Number: 1\n"
     ]
    },
    {
     "data": {
      "image/png": "[encoded data removed]",
      "text/plain": [
       "<Figure size 432x288 with 1 Axes>"
      ]
     },
     "metadata": {
      "needs_background": "light"
     },
     "output_type": "display_data"
    },
    {
     "name": "stdout",
     "output_type": "stream",
     "text": [
      "Number: 3\n"
     ]
    },
    {
     "data": {
      "image/png": "[encoded data removed]",
      "text/plain": [
       "<Figure size 432x288 with 1 Axes>"
      ]
     },
     "metadata": {
      "needs_background": "light"
     },
     "output_type": "display_data"
    },
    {
     "name": "stdout",
     "output_type": "stream",
     "text": [
      "Number: 3\n"
     ]
    },
    {
     "data": {
      "image/png": "[encoded data removed]",
      "text/plain": [
       "<Figure size 432x288 with 1 Axes>"
      ]
     },
     "metadata": {
      "needs_background": "light"
     },
     "output_type": "display_data"
    },
    {
     "name": "stdout",
     "output_type": "stream",
     "text": [
      "Number: 8\n"
     ]
    },
    {
     "data": {
      "image/png": "[encoded data removed]",
      "text/plain": [
       "<Figure size 432x288 with 1 Axes>"
      ]
     },
     "metadata": {
      "needs_background": "light"
     },
     "output_type": "display_data"
    },
    {
     "name": "stdout",
     "output_type": "stream",
     "text": [
      "Number: 3\n"
     ]
    },
    {
     "data": {
      "image/png": "[encoded data removed]",
      "text/plain": [
       "<Figure size 432x288 with 1 Axes>"
      ]
     },
     "metadata": {
      "needs_background": "light"
     },
     "output_type": "display_data"
    },
    {
     "name": "stdout",
     "output_type": "stream",
     "text": [
      "Number: 6\n"
     ]
    },
    {
     "data": {
      "image/png": "[encoded data removed]",
      "text/plain": [
       "<Figure size 432x288 with 1 Axes>"
      ]
     },
     "metadata": {
      "needs_background": "light"
     },
     "output_type": "display_data"
    },
    {
     "name": "stdout",
     "output_type": "stream",
     "text": [
      "Number: 8\n"
     ]
    },
    {
     "data": {
      "image/png": "[encoded data removed]",
      "text/plain": [
       "<Figure size 432x288 with 1 Axes>"
      ]
     },
     "metadata": {
      "needs_background": "light"
     },
     "output_type": "display_data"
    },
    {
     "name": "stdout",
     "output_type": "stream",
     "text": [
      "Number: 8\n"
     ]
    },
    {
     "data": {
      "image/png": "[encoded data removed]",
      "text/plain": [
       "<Figure size 432x288 with 1 Axes>"
      ]
     },
     "metadata": {
      "needs_background": "light"
     },
     "output_type": "display_data"
    },
    {
     "name": "stdout",
     "output_type": "stream",
     "text": [
      "Number: 9\n"
     ]
    },
    {
     "data": {
      "image/png": "[encoded data removed]",
      "text/plain": [
       "<Figure size 432x288 with 1 Axes>"
      ]
     },
     "metadata": {
      "needs_background": "light"
     },
     "output_type": "display_data"
    }
   ],
   "source": [
    "image_number = 0\n",
    "# Load the files first\n",
    "while os.path.isfile(f\"/kaggle/input/digits/patel{image_number}.png\"):\n",
    "    try:\n",
    "        img = cv2.imread(f\"/kaggle/input/digits/patel{image_number}.png\")[:,:,0]\n",
    "        img = np.invert(np.array([img]))\n",
    "        prediction = hmodel.predict(img)\n",
    "        print(f\"Number: {np.argmax(prediction)}\")\n",
    "        plt.imshow(img[0],cmap=plt.cm.binary)\n",
    "        plt.show()\n",
    "    except:\n",
    "        print('Error')\n",
    "    finally:\n",
    "        image_number += 1"
   ]
  }
 ],
 "metadata": {
  "kernelspec": {
   "display_name": "Python 3",
   "language": "python",
   "name": "python3"
  },
  "language_info": {
   "codemirror_mode": {
    "name": "ipython",
    "version": 3
   },
   "file_extension": ".py",
   "mimetype": "text/x-python",
   "name": "python",
   "nbconvert_exporter": "python",
   "pygments_lexer": "ipython3",
   "version": "3.7.12"
  },
  "papermill": {
   "default_parameters": {},
   "duration": 45.135183,
   "end_time": "2022-11-16T02:42:17.255821",
   "environment_variables": {},
   "exception": null,
   "input_path": "__notebook__.ipynb",
   "output_path": "__notebook__.ipynb",
   "parameters": {},
   "start_time": "2022-11-16T02:41:32.120638",
   "version": "2.3.4"
  }
 },
 "nbformat": 4,
 "nbformat_minor": 5
}
